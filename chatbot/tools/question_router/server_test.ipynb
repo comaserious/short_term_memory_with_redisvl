{
 "cells": [
  {
   "cell_type": "code",
   "execution_count": 46,
   "id": "fe256c3d",
   "metadata": {},
   "outputs": [],
   "source": [
    "from redisvl.extensions.router import Route, SemanticRouter, RoutingConfig\n",
    "from redisvl.utils.vectorize import OpenAITextVectorizer\n",
    "import os\n",
    "\n",
    "\n",
    "web = Route(\n",
    "    name = \"web_search\",\n",
    "    references = [\n",
    "        \"오늘 서울 날씨 어때?\",\n",
    "        \"지금 코스피 지수 알려줘\",\n",
    "        \"어젯밤 프리미어리그 경기 결과가 어떻게 됐어?\",\n",
    "        \"현재 상영 중인 영화 순위 좀 알려줄래?\",\n",
    "        \"가장 최근의 국제 뉴스 헤드라인은 뭐야?\",\n",
    "        \"세종대왕의 업적에 대해 알려줘\",\n",
    "        \"블록체인이란 무엇인가요?\",\n",
    "        \"에펠탑의 높이는 몇 미터야?\",\n",
    "        \"대한민국의 초대 대통령은 누구였지?\",\n",
    "        \"라마단 기간에 대해 설명해줘\",\n",
    "        \"김치찌개 맛있게 끓이는 법\",\n",
    "        \"컴퓨터 화면 캡쳐하는 방법 알려줘\",\n",
    "        \"타이어 교체는 어떻게 해?\",\n",
    "        \"파이썬으로 웹 크롤러 만드는 법\",\n",
    "        \"운동화 끈 안 풀리게 묶는 팁 있어?\",\n",
    "        \"가성비 좋은 노트북 추천해줘\",\n",
    "        \"강남역 근처 맛집 알려줄래?\",\n",
    "        \"영화 '파묘'에 대한 사람들 평이 어때?\",\n",
    "        \"서울에서 아이와 함께 가볼 만한 곳\",\n",
    "        \"2024년 최신 스마트폰 비교 정보 좀 찾아줘\",\n",
    "        \"양자역학의 불확정성 원리에 대해 설명해줘\",\n",
    "        \"조선왕조실록에 기록된 특이한 사건들\",\n",
    "        \"인공지능의 트랜스포머 모델은 어떻게 작동해?\",\n",
    "        \"고대 로마의 수도 시설에 대해 알려줘\",\n",
    "        \"지구 온난화가 해양 생태계에 미치는 영향\",\n",
    "    ],\n",
    "    metadata = {\"category\" : \"web_search\"},\n",
    "    distance_threshold = 0.65\n",
    ")\n",
    "\n",
    "class QueryRouterHandler:\n",
    "    def __init__(self, redis_url : str):\n",
    "        self.oai = OpenAITextVectorizer(\n",
    "            model = \"text-embedding-3-small\",\n",
    "            api_config = {\"api_key\" : os.getenv(\"OPENAI_API_KEY\")}\n",
    "        )\n",
    "        self.router = SemanticRouter(\n",
    "            name = \"query_router\",\n",
    "            vectorizer = self.oai,\n",
    "            routes = [web],\n",
    "            redis_url = redis_url\n",
    "        )\n",
    "\n",
    "    def route(self, question : str):\n",
    "        route_match = self.router(question)\n",
    "        return route_match.name\n",
    "\n",
    "    def update_threshold(self, route_name : str , threshold : float):\n",
    "        self.router.update_routing_config(\n",
    "            RoutingConfig(update_route_thresholds={route_name : threshold})\n",
    "        )"
   ]
  },
  {
   "cell_type": "code",
   "execution_count": 47,
   "id": "8e3be015",
   "metadata": {},
   "outputs": [
    {
     "name": "stdout",
     "output_type": "stream",
     "text": [
      "17:31:55 httpx INFO   HTTP Request: POST https://api.openai.com/v1/embeddings \"HTTP/1.1 200 OK\"\n",
      "17:31:55 redisvl.index.index INFO   Index already exists, not overwriting.\n"
     ]
    }
   ],
   "source": [
    "router = QueryRouterHandler(redis_url = \"redis://localhost:30000\")"
   ]
  },
  {
   "cell_type": "code",
   "execution_count": null,
   "id": "6fca2b9d",
   "metadata": {},
   "outputs": [],
   "source": [
    "question = \"\""
   ]
  },
  {
   "cell_type": "code",
   "execution_count": 50,
   "id": "bc1503b1",
   "metadata": {},
   "outputs": [
    {
     "name": "stdout",
     "output_type": "stream",
     "text": [
      "17:32:07 httpx INFO   HTTP Request: POST https://api.openai.com/v1/embeddings \"HTTP/1.1 200 OK\"\n"
     ]
    }
   ],
   "source": [
    "result = router.route(question)"
   ]
  },
  {
   "cell_type": "code",
   "execution_count": 51,
   "id": "46eeb6ea",
   "metadata": {},
   "outputs": [],
   "source": [
    "result"
   ]
  },
  {
   "cell_type": "code",
   "execution_count": 18,
   "id": "824dc4a6",
   "metadata": {},
   "outputs": [
    {
     "data": {
      "text/plain": [
       "25"
      ]
     },
     "execution_count": 18,
     "metadata": {},
     "output_type": "execute_result"
    }
   ],
   "source": [
    "router.router._index.info()[\"num_docs\"]"
   ]
  },
  {
   "cell_type": "code",
   "execution_count": 21,
   "id": "ecb49f35",
   "metadata": {},
   "outputs": [],
   "source": [
    "from redisvl.extensions.router import RoutingConfig"
   ]
  },
  {
   "cell_type": "code",
   "execution_count": null,
   "id": "9c9c0801",
   "metadata": {},
   "outputs": [],
   "source": [
    "router.router.update_routing_config(\n",
    "    RoutingConfig(update_route_thresholds={\"web_search\" : 0.7})\n",
    ")"
   ]
  },
  {
   "cell_type": "code",
   "execution_count": 48,
   "id": "8582cff7",
   "metadata": {},
   "outputs": [
    {
     "data": {
      "text/plain": [
       "{'name': 'query_router',\n",
       " 'routes': [{'name': 'web_search',\n",
       "   'references': ['오늘 서울 날씨 어때?',\n",
       "    '지금 코스피 지수 알려줘',\n",
       "    '어젯밤 프리미어리그 경기 결과가 어떻게 됐어?',\n",
       "    '현재 상영 중인 영화 순위 좀 알려줄래?',\n",
       "    '가장 최근의 국제 뉴스 헤드라인은 뭐야?',\n",
       "    '세종대왕의 업적에 대해 알려줘',\n",
       "    '블록체인이란 무엇인가요?',\n",
       "    '에펠탑의 높이는 몇 미터야?',\n",
       "    '대한민국의 초대 대통령은 누구였지?',\n",
       "    '라마단 기간에 대해 설명해줘',\n",
       "    '김치찌개 맛있게 끓이는 법',\n",
       "    '컴퓨터 화면 캡쳐하는 방법 알려줘',\n",
       "    '타이어 교체는 어떻게 해?',\n",
       "    '파이썬으로 웹 크롤러 만드는 법',\n",
       "    '운동화 끈 안 풀리게 묶는 팁 있어?',\n",
       "    '가성비 좋은 노트북 추천해줘',\n",
       "    '강남역 근처 맛집 알려줄래?',\n",
       "    \"영화 '파묘'에 대한 사람들 평이 어때?\",\n",
       "    '서울에서 아이와 함께 가볼 만한 곳',\n",
       "    '2024년 최신 스마트폰 비교 정보 좀 찾아줘',\n",
       "    '양자역학의 불확정성 원리에 대해 설명해줘',\n",
       "    '조선왕조실록에 기록된 특이한 사건들',\n",
       "    '인공지능의 트랜스포머 모델은 어떻게 작동해?',\n",
       "    '고대 로마의 수도 시설에 대해 알려줘',\n",
       "    '지구 온난화가 해양 생태계에 미치는 영향'],\n",
       "   'metadata': {'category': 'web_search'},\n",
       "   'distance_threshold': 0.65}],\n",
       " 'vectorizer': {'type': 'openai', 'model': 'text-embedding-3-small'},\n",
       " 'routing_config': {'max_k': 1, 'aggregation_method': 'avg'}}"
      ]
     },
     "execution_count": 48,
     "metadata": {},
     "output_type": "execute_result"
    }
   ],
   "source": [
    "router.router.to_dict()"
   ]
  }
 ],
 "metadata": {
  "kernelspec": {
   "display_name": "graph-module",
   "language": "python",
   "name": "python3"
  },
  "language_info": {
   "codemirror_mode": {
    "name": "ipython",
    "version": 3
   },
   "file_extension": ".py",
   "mimetype": "text/x-python",
   "name": "python",
   "nbconvert_exporter": "python",
   "pygments_lexer": "ipython3",
   "version": "3.11.11"
  }
 },
 "nbformat": 4,
 "nbformat_minor": 5
}
