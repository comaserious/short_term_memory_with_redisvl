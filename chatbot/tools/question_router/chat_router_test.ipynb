{
 "cells": [
  {
   "cell_type": "code",
   "execution_count": 10,
   "id": "14d9d07b",
   "metadata": {},
   "outputs": [
    {
     "data": {
      "text/plain": [
       "True"
      ]
     },
     "execution_count": 10,
     "metadata": {},
     "output_type": "execute_result"
    }
   ],
   "source": [
    "from redisvl.extensions.router import Route\n",
    "from redisvl.utils.vectorize import OpenAITextVectorizer\n",
    "import os\n",
    "from dotenv import load_dotenv\n",
    "\n",
    "load_dotenv()"
   ]
  },
  {
   "cell_type": "code",
   "execution_count": 11,
   "id": "f4b16454",
   "metadata": {},
   "outputs": [
    {
     "name": "stdout",
     "output_type": "stream",
     "text": [
      "15:58:51 httpx INFO   HTTP Request: POST https://api.openai.com/v1/embeddings \"HTTP/1.1 200 OK\"\n"
     ]
    }
   ],
   "source": [
    "oai = OpenAITextVectorizer(\n",
    "    model = \"text-embedding-3-small\",\n",
    "    api_config = {\"api_key\" : os.getenv(\"OPENAI_API_KEY\")}\n",
    ")"
   ]
  },
  {
   "cell_type": "code",
   "execution_count": null,
   "id": "18d9031b",
   "metadata": {},
   "outputs": [],
   "source": [
    "# general_chat = Route(\n",
    "#     name = \"general\",\n",
    "#     references = [\n",
    "#         \"general\",\n",
    "#         \"general chat\",\n",
    "#         \"general conversation\",\n",
    "#         \"general discussion\",\n",
    "#         \"general help\",\n",
    "#         \"general information\",\n",
    "#     ],\n",
    "#     metadata = {\"category\" : \"general\"},\n",
    "#     distance_threshold = 0.7\n",
    "# )\n",
    "\n",
    "image_chat = Route(\n",
    "    name = \"image\",\n",
    "    references = [\n",
    "        \"그려줘\",\n",
    "        \"그림을 그려줘\",\n",
    "        \"이미지를 만들어줘\",\n",
    "        \"이미지 생성\"\n",
    "    ],\n",
    "    metadata = {\"category\" : \"image\"},\n",
    "    distance_threshold = 0.8\n",
    ")\n",
    "\n",
    "news_chat = Route(\n",
    "    name = \"news\",\n",
    "    references = [\n",
    "        \"최근 동향\",\n",
    "        \"최근 날씨\",\n",
    "        \"최근 뉴스\",\n",
    "        \"최근 업무 동향\",\n",
    "        \"최근 주식 동향\",\n",
    "        \"최근 삼성 주식은 얼마야?\" ,\n",
    "    ],\n",
    "    metadata = {'category' : 'news'},\n",
    "    distance_threshold= 0.72\n",
    ")"
   ]
  },
  {
   "cell_type": "code",
   "execution_count": 13,
   "id": "55cf0a3a",
   "metadata": {},
   "outputs": [],
   "source": [
    "from redisvl.extensions.router import SemanticRouter"
   ]
  },
  {
   "cell_type": "code",
   "execution_count": 14,
   "id": "ccf9c329",
   "metadata": {},
   "outputs": [
    {
     "name": "stdout",
     "output_type": "stream",
     "text": [
      "15:58:59 redisvl.index.index INFO   Index already exists, overwriting.\n"
     ]
    },
    {
     "name": "stdout",
     "output_type": "stream",
     "text": [
      "15:58:59 httpx INFO   HTTP Request: POST https://api.openai.com/v1/embeddings \"HTTP/1.1 200 OK\"\n",
      "15:59:00 httpx INFO   HTTP Request: POST https://api.openai.com/v1/embeddings \"HTTP/1.1 200 OK\"\n"
     ]
    }
   ],
   "source": [
    "router = SemanticRouter(\n",
    "    name = \"topic_picker\",\n",
    "    vectorizer = oai,\n",
    "    routes = [ image_chat, news_chat],\n",
    "    redis_url = \"redis://localhost:30000\",\n",
    "    overwrite = True\n",
    ")"
   ]
  },
  {
   "cell_type": "code",
   "execution_count": 15,
   "id": "be0f851e",
   "metadata": {},
   "outputs": [
    {
     "data": {
      "text/plain": [
       "11"
      ]
     },
     "execution_count": 15,
     "metadata": {},
     "output_type": "execute_result"
    }
   ],
   "source": [
    "router._index.info()[\"num_docs\"] # reference 개수 확인"
   ]
  },
  {
   "cell_type": "code",
   "execution_count": 25,
   "id": "3374417a",
   "metadata": {},
   "outputs": [],
   "source": [
    "question = \"sk 하이닉스 가격은 얼마야?\""
   ]
  },
  {
   "cell_type": "code",
   "execution_count": 26,
   "id": "420e6d1f",
   "metadata": {},
   "outputs": [
    {
     "name": "stdout",
     "output_type": "stream",
     "text": [
      "16:28:49 httpx INFO   HTTP Request: POST https://api.openai.com/v1/embeddings \"HTTP/1.1 200 OK\"\n"
     ]
    },
    {
     "data": {
      "text/plain": [
       "RouteMatch(name=None, distance=None)"
      ]
     },
     "execution_count": 26,
     "metadata": {},
     "output_type": "execute_result"
    }
   ],
   "source": [
    "route_match = router(question)\n",
    "route_match"
   ]
  },
  {
   "cell_type": "code",
   "execution_count": 18,
   "id": "0bdf3dad",
   "metadata": {},
   "outputs": [
    {
     "name": "stdout",
     "output_type": "stream",
     "text": [
      "15:59:21 httpx INFO   HTTP Request: POST https://api.openai.com/v1/embeddings \"HTTP/1.1 200 OK\"\n"
     ]
    },
    {
     "data": {
      "text/plain": [
       "['topic_picker:news:c8536fc974bbfb4901bc5173156ef8167c6e981fe94d8c482c1da55739a57175']"
      ]
     },
     "execution_count": 18,
     "metadata": {},
     "output_type": "execute_result"
    }
   ],
   "source": [
    "router.add_route_references(route_name = \"news\", references = [\"A 주가는 얼마야?\"])"
   ]
  }
 ],
 "metadata": {
  "kernelspec": {
   "display_name": "graph-module",
   "language": "python",
   "name": "python3"
  },
  "language_info": {
   "codemirror_mode": {
    "name": "ipython",
    "version": 3
   },
   "file_extension": ".py",
   "mimetype": "text/x-python",
   "name": "python",
   "nbconvert_exporter": "python",
   "pygments_lexer": "ipython3",
   "version": "3.11.11"
  }
 },
 "nbformat": 4,
 "nbformat_minor": 5
}
